{
 "cells": [
  {
   "cell_type": "code",
   "execution_count": 1,
   "metadata": {},
   "outputs": [],
   "source": [
    "import numpy as np \n",
    "import pandas as pd \n",
    "\n",
    "from sklearn import preprocessing\n",
    "\n",
    "data = pd.read_csv(\"pimadiabetesdata.csv\")"
   ]
  },
  {
   "cell_type": "code",
   "execution_count": 2,
   "metadata": {},
   "outputs": [
    {
     "name": "stdout",
     "output_type": "stream",
     "text": [
      "Number of positive instances: 268. Percentage: 34.90%\n",
      "Number of negative instances: 500. Percentage: 65.10%\n"
     ]
    }
   ],
   "source": [
    "positiveCases = len(data.loc[data['Output']==2])\n",
    "negativeCases = len(data.loc[data['Output']==1])\n",
    "\n",
    "totalCases = positiveCases+negativeCases\n",
    "\n",
    "print(\"Number of positive instances: {0}. Percentage: {1:2.2f}%\".format(positiveCases, ((positiveCases/(totalCases))*100)))\n",
    "print(\"Number of negative instances: {0}. Percentage: {1:2.2f}%\".format(negativeCases, ((negativeCases/(totalCases))*100)))"
   ]
  },
  {
   "cell_type": "code",
   "execution_count": 18,
   "metadata": {},
   "outputs": [
    {
     "name": "stdout",
     "output_type": "stream",
     "text": [
      "Training dataset: 537\n",
      "Test dataset: 231\n"
     ]
    },
    {
     "data": {
      "text/plain": [
       "88     2\n",
       "467    1\n",
       "550    1\n",
       "147    1\n",
       "481    1\n",
       "Name: Output, dtype: int64"
      ]
     },
     "execution_count": 18,
     "metadata": {},
     "output_type": "execute_result"
    }
   ],
   "source": [
    "from sklearn.model_selection import train_test_split\n",
    "x = data.drop(['Output'], axis = 1)\n",
    "y = data['Output']\n",
    "trainX, testX, trainY, testY = train_test_split(x, y, test_size=0.3, random_state=1)\n",
    "print(\"Training dataset: {0}\".format(len(trainX)))\n",
    "print(\"Test dataset: {0}\".format(len(testX)))\n",
    "trainY.head()"
   ]
  },
  {
   "cell_type": "code",
   "execution_count": 4,
   "metadata": {},
   "outputs": [
    {
     "data": {
      "text/plain": [
       "GaussianNB()"
      ]
     },
     "execution_count": 4,
     "metadata": {},
     "output_type": "execute_result"
    }
   ],
   "source": [
    "from sklearn.naive_bayes import GaussianNB\n",
    "model = GaussianNB()\n",
    "model.fit(trainX, trainY.ravel())"
   ]
  },
  {
   "cell_type": "code",
   "execution_count": 5,
   "metadata": {},
   "outputs": [
    {
     "name": "stdout",
     "output_type": "stream",
     "text": [
      "The accuracy of the model in predicting the training data is: 0.7616\n"
     ]
    }
   ],
   "source": [
    "modelPredictionTraining = model.predict(trainX)\n",
    "\n",
    "from sklearn import metrics\n",
    "\n",
    "print(\"The accuracy of the model in predicting the training data is: {0:0.4f}\".format(metrics.accuracy_score(trainY, modelPredictionTraining)))"
   ]
  },
  {
   "cell_type": "code",
   "execution_count": 6,
   "metadata": {},
   "outputs": [
    {
     "name": "stdout",
     "output_type": "stream",
     "text": [
      "The accuracy of the model in predicting the test data is: 0.7835\n"
     ]
    }
   ],
   "source": [
    "modelPredictionTest = model.predict(testX)\n",
    "\n",
    "print(\"The accuracy of the model in predicting the test data is: {0:0.4f}\".format(metrics.accuracy_score(testY, modelPredictionTest)))"
   ]
  },
  {
   "cell_type": "code",
   "execution_count": 9,
   "metadata": {},
   "outputs": [
    {
     "name": "stdout",
     "output_type": "stream",
     "text": [
      "Confusion Matrix\n",
      "[[ 53  32]\n",
      " [ 18 128]]\n"
     ]
    }
   ],
   "source": [
    "# Confusion matrix\n",
    "print(\"Confusion Matrix\")\n",
    "print(metrics.confusion_matrix(testY, modelPredictionTest, labels=[2,1]))"
   ]
  },
  {
   "cell_type": "code",
   "execution_count": 17,
   "metadata": {},
   "outputs": [
    {
     "name": "stdout",
     "output_type": "stream",
     "text": [
      "The mean absolute error is: \n",
      "0.21645021645021645\n"
     ]
    }
   ],
   "source": [
    "from sklearn.metrics import mean_absolute_error\n",
    "print(\"The mean absolute error is: \")\n",
    "print(mean_absolute_error(testY, modelPredictionTest))"
   ]
  },
  {
   "cell_type": "code",
   "execution_count": 7,
   "metadata": {},
   "outputs": [
    {
     "name": "stdout",
     "output_type": "stream",
     "text": [
      "The classification report of the model is as follows\n",
      "\n",
      "              precision    recall  f1-score   support\n",
      "\n",
      "           2       0.75      0.62      0.68        85\n",
      "           1       0.80      0.88      0.84       146\n",
      "\n",
      "    accuracy                           0.78       231\n",
      "   macro avg       0.77      0.75      0.76       231\n",
      "weighted avg       0.78      0.78      0.78       231\n",
      "\n"
     ]
    }
   ],
   "source": [
    "print(\"The classification report of the first model is as follows\\n\")\n",
    "print(metrics.classification_report(testY, modelPredictionTest, labels=[2,1]))"
   ]
  },
  {
   "cell_type": "code",
   "execution_count": 22,
   "metadata": {},
   "outputs": [
    {
     "data": {
      "text/plain": [
       "MultinomialNB()"
      ]
     },
     "execution_count": 22,
     "metadata": {},
     "output_type": "execute_result"
    }
   ],
   "source": [
    "from sklearn.naive_bayes import MultinomialNB\n",
    "model2 = MultinomialNB()\n",
    "model2.fit(trainX, trainY.ravel())"
   ]
  },
  {
   "cell_type": "code",
   "execution_count": 23,
   "metadata": {},
   "outputs": [
    {
     "name": "stdout",
     "output_type": "stream",
     "text": [
      "The mean absolute error is: \n",
      "0.45454545454545453\n"
     ]
    }
   ],
   "source": [
    "modelPredictionTraining2 = model2.predict(trainX)\n",
    "modelPredictionTest2 = model2.predict(testX)\n",
    "print(\"The mean absolute error is: \")\n",
    "print(mean_absolute_error(testY, modelPredictionTest2))"
   ]
  },
  {
   "cell_type": "code",
   "execution_count": 24,
   "metadata": {},
   "outputs": [
    {
     "name": "stdout",
     "output_type": "stream",
     "text": [
      "The accuracy of the second model in predicting the training data is: 0.6145\n",
      "The accuracy of the second model in predicting the test data is: 0.5455\n"
     ]
    }
   ],
   "source": [
    "print(\"The accuracy of the second model in predicting the training data is: {0:0.4f}\".format(metrics.accuracy_score(trainY, modelPredictionTraining2)))\n",
    "\n",
    "print(\"The accuracy of the second model in predicting the test data is: {0:0.4f}\".format(metrics.accuracy_score(testY, modelPredictionTest2)))"
   ]
  },
  {
   "cell_type": "code",
   "execution_count": 25,
   "metadata": {},
   "outputs": [
    {
     "name": "stdout",
     "output_type": "stream",
     "text": [
      "The confusion matrix:\n",
      "[[34 51]\n",
      " [54 92]]\n"
     ]
    }
   ],
   "source": [
    "print(\"The confusion matrix:\")\n",
    "\n",
    "print(metrics.confusion_matrix(testY, modelPredictionTest2, labels=[2,1]))"
   ]
  },
  {
   "cell_type": "code",
   "execution_count": 26,
   "metadata": {},
   "outputs": [
    {
     "name": "stdout",
     "output_type": "stream",
     "text": [
      "The classification report of the second model is as follows\n",
      "\n",
      "              precision    recall  f1-score   support\n",
      "\n",
      "           2       0.39      0.40      0.39        85\n",
      "           1       0.64      0.63      0.64       146\n",
      "\n",
      "    accuracy                           0.55       231\n",
      "   macro avg       0.51      0.52      0.51       231\n",
      "weighted avg       0.55      0.55      0.55       231\n",
      "\n"
     ]
    }
   ],
   "source": [
    "print(\"The classification report of the second model is as follows\\n\") \n",
    "\n",
    "print(metrics.classification_report(testY, modelPredictionTest2, labels=[2,1]))"
   ]
  },
  {
   "cell_type": "code",
   "execution_count": null,
   "metadata": {},
   "outputs": [],
   "source": []
  }
 ],
 "metadata": {
  "kernelspec": {
   "display_name": "Python 3",
   "language": "python",
   "name": "python3"
  },
  "language_info": {
   "codemirror_mode": {
    "name": "ipython",
    "version": 3
   },
   "file_extension": ".py",
   "mimetype": "text/x-python",
   "name": "python",
   "nbconvert_exporter": "python",
   "pygments_lexer": "ipython3",
   "version": "3.8.5"
  }
 },
 "nbformat": 4,
 "nbformat_minor": 2
}
